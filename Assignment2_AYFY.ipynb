{
 "cells": [
  {
   "cell_type": "markdown",
   "metadata": {},
   "source": [
    "## Assignment 2 Pandas\n",
    "\n",
    "**Instructions:** <br>\n",
    "a. write your answer after `# your answer here`. Do not delete any code that is in the cell, as the code facilitates checking your answers. If you happen to delete any code that prevents expected outputs, you may lose points. <br>\n",
    "b. when you finish the assignment, make sure to use `Kernel` -> `Restart and Run All` to restart the kernel and rerun the entire notebook to generate the desired outputs, before submitting your assignment. <br>\n",
    "c. upload your .ipynb file. <br>\n",
    "<br>\n",
    "Each subquestion is worth 5 points, and the total score for assignment 2 is 75 points.\n",
    "\n",
    "**Policy:** <br>\n",
    "Assignment submitted late will receive a late penalty (30% point reduction), regardless of the reason. Empty assignment or no submission receives 0 point."
   ]
  },
  {
   "cell_type": "markdown",
   "metadata": {},
   "source": [
    "\n",
    "### Question 1\n",
    "\n",
    "Use the code to simulate data and answer the questions below."
   ]
  },
  {
   "cell_type": "code",
   "execution_count": 1,
   "metadata": {},
   "outputs": [],
   "source": [
    "import pandas as pd\n",
    "import numpy as np\n",
    "np.random.seed(1234)\n",
    "s1 = pd.Series(np.random.randint(1, high=5, size=100, dtype='l'))\n",
    "s2 = pd.Series(np.random.randint(1, high=4, size=100, dtype='l'))\n",
    "s3 = pd.Series(np.random.randint(100, high=301, size=100, dtype='l'))\n",
    "s4 = pd.Series(np.random.randint(10000, high=30001, size=100, dtype='l'))"
   ]
  },
  {
   "cell_type": "markdown",
   "metadata": {},
   "source": [
    " 1. (1) Create a DataFrame `df` by concatenating the three Series s1, s2, s3 as three columns (df: 100 by 3), and then rename column names to be 'a', 'b', 'c'. Keep the first 70 rows of `df`(df: 70 by 3).<br>\n",
    " Create another DataFrame `df2` by joinning the two Series s1, s4 by column (df2: 100 by 2), and the column names should be 'A' and 'B'. Then, keep the last 60 rows of `df2`(df2: 60 by 2)."
   ]
  },
  {
   "cell_type": "code",
   "execution_count": 3,
   "metadata": {},
   "outputs": [
    {
     "name": "stdout",
     "output_type": "stream",
     "text": [
      "Index(['a', 'b', 'c'], dtype='object') \n",
      "\n",
      "Index(['A', 'B'], dtype='object') \n",
      "\n",
      "RangeIndex(start=0, stop=70, step=1) \n",
      "\n",
      "RangeIndex(start=40, stop=100, step=1) \n",
      "\n"
     ]
    },
    {
     "data": {
      "text/html": [
       "<div>\n",
       "<style scoped>\n",
       "    .dataframe tbody tr th:only-of-type {\n",
       "        vertical-align: middle;\n",
       "    }\n",
       "\n",
       "    .dataframe tbody tr th {\n",
       "        vertical-align: top;\n",
       "    }\n",
       "\n",
       "    .dataframe thead th {\n",
       "        text-align: right;\n",
       "    }\n",
       "</style>\n",
       "<table border=\"1\" class=\"dataframe\">\n",
       "  <thead>\n",
       "    <tr style=\"text-align: right;\">\n",
       "      <th></th>\n",
       "      <th>A</th>\n",
       "      <th>B</th>\n",
       "    </tr>\n",
       "  </thead>\n",
       "  <tbody>\n",
       "    <tr>\n",
       "      <th>40</th>\n",
       "      <td>4</td>\n",
       "      <td>21028</td>\n",
       "    </tr>\n",
       "    <tr>\n",
       "      <th>41</th>\n",
       "      <td>4</td>\n",
       "      <td>10615</td>\n",
       "    </tr>\n",
       "    <tr>\n",
       "      <th>42</th>\n",
       "      <td>1</td>\n",
       "      <td>21722</td>\n",
       "    </tr>\n",
       "    <tr>\n",
       "      <th>43</th>\n",
       "      <td>2</td>\n",
       "      <td>19723</td>\n",
       "    </tr>\n",
       "    <tr>\n",
       "      <th>44</th>\n",
       "      <td>4</td>\n",
       "      <td>28816</td>\n",
       "    </tr>\n",
       "  </tbody>\n",
       "</table>\n",
       "</div>"
      ],
      "text/plain": [
       "    A      B\n",
       "40  4  21028\n",
       "41  4  10615\n",
       "42  1  21722\n",
       "43  2  19723\n",
       "44  4  28816"
      ]
     },
     "execution_count": 3,
     "metadata": {},
     "output_type": "execute_result"
    }
   ],
   "source": [
    "# Your answer here\n",
    "df=pd.concat([s1,s2,s3],axis=1)\n",
    "df.columns=['a','b','c']\n",
    "df=df[:70]\n",
    "\n",
    "df2=pd.concat([s1,s4],axis=1)\n",
    "df2.columns=['A','B']\n",
    "df2=df2[-60:]\n",
    "\n",
    "# for grading\n",
    "print(df.columns,'\\n'); print(df2.columns,'\\n')\n",
    "print(df.index,'\\n'); print(df2.index,'\\n')\n",
    "df2.head()"
   ]
  },
  {
   "cell_type": "markdown",
   "metadata": {},
   "source": [
    "1. (2) Merge `df` and `df2` by the index values into `df3`. Note that we will only keep the intersections of the two dataframes (`df3`: 30 by 5). Additionally, drop the column in `df3` that is repetitive (`df3`: 30 by 4)."
   ]
  },
  {
   "cell_type": "code",
   "execution_count": 3,
   "metadata": {},
   "outputs": [],
   "source": [
    "#pd.merge & pd.concat (LT7)"
   ]
  },
  {
   "cell_type": "code",
   "execution_count": 4,
   "metadata": {},
   "outputs": [
    {
     "name": "stdout",
     "output_type": "stream",
     "text": [
      "(30, 4)\n"
     ]
    },
    {
     "data": {
      "text/html": [
       "<div>\n",
       "<style scoped>\n",
       "    .dataframe tbody tr th:only-of-type {\n",
       "        vertical-align: middle;\n",
       "    }\n",
       "\n",
       "    .dataframe tbody tr th {\n",
       "        vertical-align: top;\n",
       "    }\n",
       "\n",
       "    .dataframe thead th {\n",
       "        text-align: right;\n",
       "    }\n",
       "</style>\n",
       "<table border=\"1\" class=\"dataframe\">\n",
       "  <thead>\n",
       "    <tr style=\"text-align: right;\">\n",
       "      <th></th>\n",
       "      <th>a</th>\n",
       "      <th>b</th>\n",
       "      <th>c</th>\n",
       "      <th>B</th>\n",
       "    </tr>\n",
       "  </thead>\n",
       "  <tbody>\n",
       "    <tr>\n",
       "      <th>40</th>\n",
       "      <td>4.0</td>\n",
       "      <td>3.0</td>\n",
       "      <td>135.0</td>\n",
       "      <td>21028.0</td>\n",
       "    </tr>\n",
       "    <tr>\n",
       "      <th>41</th>\n",
       "      <td>4.0</td>\n",
       "      <td>3.0</td>\n",
       "      <td>270.0</td>\n",
       "      <td>10615.0</td>\n",
       "    </tr>\n",
       "    <tr>\n",
       "      <th>42</th>\n",
       "      <td>1.0</td>\n",
       "      <td>1.0</td>\n",
       "      <td>248.0</td>\n",
       "      <td>21722.0</td>\n",
       "    </tr>\n",
       "    <tr>\n",
       "      <th>43</th>\n",
       "      <td>2.0</td>\n",
       "      <td>2.0</td>\n",
       "      <td>126.0</td>\n",
       "      <td>19723.0</td>\n",
       "    </tr>\n",
       "    <tr>\n",
       "      <th>44</th>\n",
       "      <td>4.0</td>\n",
       "      <td>2.0</td>\n",
       "      <td>189.0</td>\n",
       "      <td>28816.0</td>\n",
       "    </tr>\n",
       "  </tbody>\n",
       "</table>\n",
       "</div>"
      ],
      "text/plain": [
       "      a    b      c        B\n",
       "40  4.0  3.0  135.0  21028.0\n",
       "41  4.0  3.0  270.0  10615.0\n",
       "42  1.0  1.0  248.0  21722.0\n",
       "43  2.0  2.0  126.0  19723.0\n",
       "44  4.0  2.0  189.0  28816.0"
      ]
     },
     "execution_count": 4,
     "metadata": {},
     "output_type": "execute_result"
    }
   ],
   "source": [
    "# Your answer here\n",
    "# ????????\n",
    "df3=pd.concat([df,df2],axis=1)\n",
    "df3=df3.dropna()\n",
    "df3=df3.T.drop_duplicates().T\n",
    "df3\n",
    "\n",
    "# for grading\n",
    "print(df3.shape)\n",
    "df3.head()"
   ]
  },
  {
   "cell_type": "markdown",
   "metadata": {},
   "source": [
    "1. (3) Create a one column DataFrame with the values of the three Series s1, s2, s3 and assign it to 'df4' (300 by 1)."
   ]
  },
  {
   "cell_type": "code",
   "execution_count": 5,
   "metadata": {},
   "outputs": [
    {
     "name": "stdout",
     "output_type": "stream",
     "text": [
      "<class 'pandas.core.frame.DataFrame'>\n",
      "(300, 1)\n",
      "      0\n",
      "95  202\n",
      "96  108\n",
      "97  141\n",
      "98  261\n",
      "99  169\n"
     ]
    }
   ],
   "source": [
    "# Your answer here\n",
    "df4=pd.DataFrame(pd.concat([s1,s2,s3]))\n",
    "# for grading\n",
    "print(type(df4)) #check the type of the df4\n",
    "print(df4.shape) #check the shape\n",
    "print(df4.tail()) #check last columns: note the index"
   ]
  },
  {
   "cell_type": "markdown",
   "metadata": {},
   "source": [
    "1. (4) Reindex the DataFrame so that the index is from 0 to 299"
   ]
  },
  {
   "cell_type": "code",
   "execution_count": 6,
   "metadata": {},
   "outputs": [
    {
     "data": {
      "text/html": [
       "<div>\n",
       "<style scoped>\n",
       "    .dataframe tbody tr th:only-of-type {\n",
       "        vertical-align: middle;\n",
       "    }\n",
       "\n",
       "    .dataframe tbody tr th {\n",
       "        vertical-align: top;\n",
       "    }\n",
       "\n",
       "    .dataframe thead th {\n",
       "        text-align: right;\n",
       "    }\n",
       "</style>\n",
       "<table border=\"1\" class=\"dataframe\">\n",
       "  <thead>\n",
       "    <tr style=\"text-align: right;\">\n",
       "      <th></th>\n",
       "      <th>0</th>\n",
       "    </tr>\n",
       "  </thead>\n",
       "  <tbody>\n",
       "    <tr>\n",
       "      <th>0</th>\n",
       "      <td>4</td>\n",
       "    </tr>\n",
       "    <tr>\n",
       "      <th>1</th>\n",
       "      <td>4</td>\n",
       "    </tr>\n",
       "    <tr>\n",
       "      <th>2</th>\n",
       "      <td>3</td>\n",
       "    </tr>\n",
       "    <tr>\n",
       "      <th>3</th>\n",
       "      <td>2</td>\n",
       "    </tr>\n",
       "    <tr>\n",
       "      <th>4</th>\n",
       "      <td>1</td>\n",
       "    </tr>\n",
       "    <tr>\n",
       "      <th>...</th>\n",
       "      <td>...</td>\n",
       "    </tr>\n",
       "    <tr>\n",
       "      <th>295</th>\n",
       "      <td>202</td>\n",
       "    </tr>\n",
       "    <tr>\n",
       "      <th>296</th>\n",
       "      <td>108</td>\n",
       "    </tr>\n",
       "    <tr>\n",
       "      <th>297</th>\n",
       "      <td>141</td>\n",
       "    </tr>\n",
       "    <tr>\n",
       "      <th>298</th>\n",
       "      <td>261</td>\n",
       "    </tr>\n",
       "    <tr>\n",
       "      <th>299</th>\n",
       "      <td>169</td>\n",
       "    </tr>\n",
       "  </tbody>\n",
       "</table>\n",
       "<p>300 rows × 1 columns</p>\n",
       "</div>"
      ],
      "text/plain": [
       "       0\n",
       "0      4\n",
       "1      4\n",
       "2      3\n",
       "3      2\n",
       "4      1\n",
       "..   ...\n",
       "295  202\n",
       "296  108\n",
       "297  141\n",
       "298  261\n",
       "299  169\n",
       "\n",
       "[300 rows x 1 columns]"
      ]
     },
     "execution_count": 6,
     "metadata": {},
     "output_type": "execute_result"
    }
   ],
   "source": [
    "# Your answer here\n",
    "df4.index=np.arange(0,300)\n",
    "\n",
    "# for grading\n",
    "df4"
   ]
  },
  {
   "cell_type": "markdown",
   "metadata": {},
   "source": [
    "### Question 2\n",
    "\n",
    "First, download the Olympic medal dataset (medals.csv). Use the following code to load the dataset.\n",
    "\n",
    "The columns give information on: <br>\n",
    "summer Olympic games--number of games and summer medals;  <br>\n",
    "winter Olympic games--number of games and winter medals;  <br>\n",
    "total Olympic games--number of games and total medals."
   ]
  },
  {
   "cell_type": "code",
   "execution_count": 7,
   "metadata": {
    "nbgrader": {
     "grade": false,
     "grade_id": "1",
     "locked": false,
     "solution": false
    },
    "scrolled": false,
    "umich_question": "prolog-000"
   },
   "outputs": [],
   "source": [
    "import pandas as pd\n",
    "df = pd.read_csv('medals.csv', index_col=0, skiprows=0)"
   ]
  },
  {
   "cell_type": "markdown",
   "metadata": {},
   "source": [
    "2. (1) Show the first 6 rows in the DataFrame. "
   ]
  },
  {
   "cell_type": "code",
   "execution_count": 8,
   "metadata": {
    "scrolled": true
   },
   "outputs": [
    {
     "data": {
      "text/html": [
       "<div>\n",
       "<style scoped>\n",
       "    .dataframe tbody tr th:only-of-type {\n",
       "        vertical-align: middle;\n",
       "    }\n",
       "\n",
       "    .dataframe tbody tr th {\n",
       "        vertical-align: top;\n",
       "    }\n",
       "\n",
       "    .dataframe thead th {\n",
       "        text-align: right;\n",
       "    }\n",
       "</style>\n",
       "<table border=\"1\" class=\"dataframe\">\n",
       "  <thead>\n",
       "    <tr style=\"text-align: right;\">\n",
       "      <th></th>\n",
       "      <th>Summer</th>\n",
       "      <th>Gold</th>\n",
       "      <th>Silver</th>\n",
       "      <th>Bronze</th>\n",
       "      <th>Total</th>\n",
       "      <th>Winter</th>\n",
       "      <th>Gold.1</th>\n",
       "      <th>Silver.1</th>\n",
       "      <th>Bronze.1</th>\n",
       "      <th>Total.1</th>\n",
       "      <th>Games</th>\n",
       "      <th>Gold.2</th>\n",
       "      <th>Silver.2</th>\n",
       "      <th>Bronze.2</th>\n",
       "      <th>Combined total</th>\n",
       "      <th>ID</th>\n",
       "    </tr>\n",
       "  </thead>\n",
       "  <tbody>\n",
       "    <tr>\n",
       "      <th>Afghanistan</th>\n",
       "      <td>13</td>\n",
       "      <td>0</td>\n",
       "      <td>0</td>\n",
       "      <td>2</td>\n",
       "      <td>2</td>\n",
       "      <td>0</td>\n",
       "      <td>0</td>\n",
       "      <td>0</td>\n",
       "      <td>0</td>\n",
       "      <td>0</td>\n",
       "      <td>13</td>\n",
       "      <td>0</td>\n",
       "      <td>0</td>\n",
       "      <td>2</td>\n",
       "      <td>2</td>\n",
       "      <td>AFG</td>\n",
       "    </tr>\n",
       "    <tr>\n",
       "      <th>Algeria</th>\n",
       "      <td>12</td>\n",
       "      <td>5</td>\n",
       "      <td>2</td>\n",
       "      <td>8</td>\n",
       "      <td>15</td>\n",
       "      <td>3</td>\n",
       "      <td>0</td>\n",
       "      <td>0</td>\n",
       "      <td>0</td>\n",
       "      <td>0</td>\n",
       "      <td>15</td>\n",
       "      <td>5</td>\n",
       "      <td>2</td>\n",
       "      <td>8</td>\n",
       "      <td>15</td>\n",
       "      <td>ALG</td>\n",
       "    </tr>\n",
       "    <tr>\n",
       "      <th>Argentina</th>\n",
       "      <td>23</td>\n",
       "      <td>18</td>\n",
       "      <td>24</td>\n",
       "      <td>28</td>\n",
       "      <td>70</td>\n",
       "      <td>18</td>\n",
       "      <td>0</td>\n",
       "      <td>0</td>\n",
       "      <td>0</td>\n",
       "      <td>0</td>\n",
       "      <td>41</td>\n",
       "      <td>18</td>\n",
       "      <td>24</td>\n",
       "      <td>28</td>\n",
       "      <td>70</td>\n",
       "      <td>ARG</td>\n",
       "    </tr>\n",
       "    <tr>\n",
       "      <th>Armenia</th>\n",
       "      <td>5</td>\n",
       "      <td>1</td>\n",
       "      <td>2</td>\n",
       "      <td>9</td>\n",
       "      <td>12</td>\n",
       "      <td>6</td>\n",
       "      <td>0</td>\n",
       "      <td>0</td>\n",
       "      <td>0</td>\n",
       "      <td>0</td>\n",
       "      <td>11</td>\n",
       "      <td>1</td>\n",
       "      <td>2</td>\n",
       "      <td>9</td>\n",
       "      <td>12</td>\n",
       "      <td>ARM</td>\n",
       "    </tr>\n",
       "    <tr>\n",
       "      <th>Australasia</th>\n",
       "      <td>2</td>\n",
       "      <td>3</td>\n",
       "      <td>4</td>\n",
       "      <td>5</td>\n",
       "      <td>12</td>\n",
       "      <td>0</td>\n",
       "      <td>0</td>\n",
       "      <td>0</td>\n",
       "      <td>0</td>\n",
       "      <td>0</td>\n",
       "      <td>2</td>\n",
       "      <td>3</td>\n",
       "      <td>4</td>\n",
       "      <td>5</td>\n",
       "      <td>12</td>\n",
       "      <td>ANZ</td>\n",
       "    </tr>\n",
       "    <tr>\n",
       "      <th>Australia</th>\n",
       "      <td>25</td>\n",
       "      <td>139</td>\n",
       "      <td>152</td>\n",
       "      <td>177</td>\n",
       "      <td>468</td>\n",
       "      <td>18</td>\n",
       "      <td>5</td>\n",
       "      <td>3</td>\n",
       "      <td>4</td>\n",
       "      <td>12</td>\n",
       "      <td>43</td>\n",
       "      <td>144</td>\n",
       "      <td>155</td>\n",
       "      <td>181</td>\n",
       "      <td>480</td>\n",
       "      <td>AUS</td>\n",
       "    </tr>\n",
       "  </tbody>\n",
       "</table>\n",
       "</div>"
      ],
      "text/plain": [
       "              Summer  Gold  Silver  Bronze  Total   Winter  Gold.1  Silver.1  \\\n",
       "Afghanistan       13     0       0       2      2        0       0         0   \n",
       "Algeria           12     5       2       8     15        3       0         0   \n",
       "Argentina         23    18      24      28     70       18       0         0   \n",
       "Armenia            5     1       2       9     12        6       0         0   \n",
       "Australasia        2     3       4       5     12        0       0         0   \n",
       "Australia         25   139     152     177    468       18       5         3   \n",
       "\n",
       "             Bronze.1  Total.1   Games  Gold.2  Silver.2  Bronze.2  \\\n",
       "Afghanistan         0        0      13       0         0         2   \n",
       "Algeria             0        0      15       5         2         8   \n",
       "Argentina           0        0      41      18        24        28   \n",
       "Armenia             0        0      11       1         2         9   \n",
       "Australasia         0        0       2       3         4         5   \n",
       "Australia           4       12      43     144       155       181   \n",
       "\n",
       "             Combined total   ID  \n",
       "Afghanistan               2  AFG  \n",
       "Algeria                  15  ALG  \n",
       "Argentina                70  ARG  \n",
       "Armenia                  12  ARM  \n",
       "Australasia              12  ANZ  \n",
       "Australia               480  AUS  "
      ]
     },
     "execution_count": 8,
     "metadata": {},
     "output_type": "execute_result"
    }
   ],
   "source": [
    "# Your answer here\n",
    "df[:6]"
   ]
  },
  {
   "cell_type": "markdown",
   "metadata": {},
   "source": [
    "2. (2) Provide the shape of the DataFrame."
   ]
  },
  {
   "cell_type": "code",
   "execution_count": 9,
   "metadata": {},
   "outputs": [
    {
     "name": "stdout",
     "output_type": "stream",
     "text": [
      "(147, 16) \n",
      " No. of rows 147 \n",
      " No. of columns 16\n"
     ]
    }
   ],
   "source": [
    "# Your answer here\n",
    "print(df.shape,\"\\n\",\"No. of rows\",df.shape[0],\"\\n\",\"No. of columns\",df.shape[1])"
   ]
  },
  {
   "cell_type": "markdown",
   "metadata": {},
   "source": [
    "2. (3) Rename the column name 'Combined total' to 'Combined.Total'."
   ]
  },
  {
   "cell_type": "code",
   "execution_count": 10,
   "metadata": {},
   "outputs": [
    {
     "data": {
      "text/plain": [
       "'Combined.Total'"
      ]
     },
     "execution_count": 10,
     "metadata": {},
     "output_type": "execute_result"
    }
   ],
   "source": [
    "# Your answer here\n",
    "df=df.rename(columns={'Combined total': 'Combined.Total'})\n",
    "\n",
    "#for grading\n",
    "df.columns[14]"
   ]
  },
  {
   "cell_type": "markdown",
   "metadata": {},
   "source": [
    "2. (4) Change all column names to lowercase and remove all spaces ' '."
   ]
  },
  {
   "cell_type": "code",
   "execution_count": 11,
   "metadata": {
    "scrolled": false
   },
   "outputs": [
    {
     "data": {
      "text/plain": [
       "Index(['summer', 'gold', 'silver', 'bronze', 'total', 'winter', 'gold.1',\n",
       "       'silver.1', 'bronze.1', 'total.1', 'games', 'gold.2', 'silver.2',\n",
       "       'bronze.2', 'combined.total', 'id'],\n",
       "      dtype='object')"
      ]
     },
     "execution_count": 11,
     "metadata": {},
     "output_type": "execute_result"
    }
   ],
   "source": [
    "# Your answer here\n",
    "columns_name=[i.lower().replace(' ','') for i in df.columns]\n",
    "df.columns=columns_name\n",
    "\n",
    "# for grading\n",
    "df.columns"
   ]
  },
  {
   "cell_type": "markdown",
   "metadata": {},
   "source": [
    "2. (5) Which country has won the most gold medals in summer games? Provide the country name and the number of gold medals. Remove Independent Olympic Participants and the Mixed team. <br>\n",
    "Expected output: a tuple consisting of the country name and the number of gold medals."
   ]
  },
  {
   "cell_type": "code",
   "execution_count": 12,
   "metadata": {
    "nbgrader": {
     "grade": false,
     "locked": false,
     "solution": false
    },
    "umich_part_id": "001",
    "umich_partlist_id": "001"
   },
   "outputs": [
    {
     "data": {
      "text/plain": [
       "('United States', 976)"
      ]
     },
     "execution_count": 12,
     "metadata": {},
     "output_type": "execute_result"
    }
   ],
   "source": [
    "def most_gold():\n",
    "    # Your answer here\n",
    "    goldNumber=df['gold'][:-1].max()\n",
    "    \n",
    "    r=df.loc[df['gold']==goldNumber, ['gold']]\n",
    "    countryName=r.index[0]\n",
    "    return countryName,goldNumber\n",
    "\n",
    "most_gold()"
   ]
  },
  {
   "cell_type": "markdown",
   "metadata": {},
   "source": [
    "2. (6) Which country had the largest difference between their summer and winter medal counts, relative to the total medal count? <br> Note: only include countries that have won at least 15 medals in both summer and winter. <br>\n",
    "$$\\frac{Summer_{Metal} - Winter_{Metal}}{Total_{Metal}}$$\n",
    "Instruction: create a new copy of the DataFrame, first calculate the value as a new column named 'percent', and then **return the row information of the country as a pandas Series**, i.e.:<br> <br>\n",
    "summer x<br>\n",
    "gold x<br>\n",
    "silver x<br>\n",
    "...<br>\n",
    "percent x<br>\n",
    "Name: x, dtype: object\n",
    "\n",
    "\n"
   ]
  },
  {
   "cell_type": "code",
   "execution_count": 13,
   "metadata": {
    "umich_part_id": "002",
    "umich_partlist_id": "001"
   },
   "outputs": [
    {
     "data": {
      "text/plain": [
       "summer                  27\n",
       "gold                   236\n",
       "silver                 272\n",
       "bronze                 272\n",
       "total                  780\n",
       "winter                  22\n",
       "gold.1                  10\n",
       "silver.1                 4\n",
       "bronze.1                12\n",
       "total.1                 26\n",
       "games                   49\n",
       "gold.2                 246\n",
       "silver.2               276\n",
       "bronze.2               284\n",
       "combined.total         806\n",
       "id                     GBR\n",
       "percent           0.935484\n",
       "Name: Great Britain, dtype: object"
      ]
     },
     "execution_count": 13,
     "metadata": {},
     "output_type": "execute_result"
    }
   ],
   "source": [
    "def max_diff():\n",
    "    # Your answer here\n",
    "    df_copy=df[(df.total>=15)&(df['total.1'] >=15)][:-1]\n",
    "    df_copy['percent']=abs((df_copy['total']-df_copy['total.1'])/df_copy['combined.total'])\n",
    "    x=df_copy[df_copy['percent']==df_copy['percent'].max()].index[0]\n",
    "    return df_copy.loc[x]\n",
    "\n",
    "max_diff()"
   ]
  },
  {
   "cell_type": "markdown",
   "metadata": {},
   "source": [
    "2. (7) Create a new column 'country_cat' that denotes the first letter of the country name, i.e. \"A\" for \"Afghanistan\", and count the number of countries in each category. Make sure to present the results alphabetically."
   ]
  },
  {
   "cell_type": "code",
   "execution_count": 14,
   "metadata": {
    "scrolled": true
   },
   "outputs": [
    {
     "data": {
      "text/plain": [
       "[('A', 8),\n",
       " ('B', 12),\n",
       " ('C', 12),\n",
       " ('D', 3),\n",
       " ('E', 6),\n",
       " ('F', 2),\n",
       " ('G', 9),\n",
       " ('H', 3),\n",
       " ('I', 10),\n",
       " ('J', 2),\n",
       " ('K', 4),\n",
       " ('L', 5),\n",
       " ('M', 10),\n",
       " ('N', 8),\n",
       " ('P', 8),\n",
       " ('Q', 1),\n",
       " ('R', 3),\n",
       " ('S', 17),\n",
       " ('T', 8),\n",
       " ('U', 8),\n",
       " ('V', 3),\n",
       " ('W', 1),\n",
       " ('Y', 1),\n",
       " ('Z', 2)]"
      ]
     },
     "execution_count": 14,
     "metadata": {},
     "output_type": "execute_result"
    }
   ],
   "source": [
    "def country_first_letter():\n",
    "    # Your answer here\n",
    "    \n",
    "    df_copy1=df.copy()[:-1]\n",
    "    df_copy1['country_cat'] = df_copy1.index.astype(str).str[0] #convert index to string and collect the first one\n",
    "    List_cat=[i[0] for i in df_copy1.index] #creat a list to save all first letter of countries name\n",
    "    List = []\n",
    "    [List.append(x) for x in List_cat if x not in List] #del repeated\n",
    "    List.sort(key=str.lower)#sort the letter alphabetically\n",
    "    List_no=[]              #creat a list and append the no. according to List element\n",
    "    for i in List:\n",
    "        x=len(df_copy1[df_copy1['country_cat']==i]) \n",
    "        List_no.append(x)\n",
    "    No_of_cat=list(zip(List,List_no)) #combine it together\n",
    "    return  No_of_cat\n",
    "    \n",
    "country_first_letter()"
   ]
  },
  {
   "cell_type": "markdown",
   "metadata": {},
   "source": [
    "### Question 3\n",
    "Using the following code to read the 'census.csv' dataset, which contains population data for counties and states in US from 2010 to 2015. Counties are political and geographic subdivisions of states in US. <br>"
   ]
  },
  {
   "cell_type": "code",
   "execution_count": 15,
   "metadata": {
    "scrolled": false,
    "umich_question": "prolog-005"
   },
   "outputs": [
    {
     "data": {
      "text/html": [
       "<div>\n",
       "<style scoped>\n",
       "    .dataframe tbody tr th:only-of-type {\n",
       "        vertical-align: middle;\n",
       "    }\n",
       "\n",
       "    .dataframe tbody tr th {\n",
       "        vertical-align: top;\n",
       "    }\n",
       "\n",
       "    .dataframe thead th {\n",
       "        text-align: right;\n",
       "    }\n",
       "</style>\n",
       "<table border=\"1\" class=\"dataframe\">\n",
       "  <thead>\n",
       "    <tr style=\"text-align: right;\">\n",
       "      <th></th>\n",
       "      <th>SUMLEV</th>\n",
       "      <th>REGION</th>\n",
       "      <th>DIVISION</th>\n",
       "      <th>STATE</th>\n",
       "      <th>COUNTY</th>\n",
       "      <th>STNAME</th>\n",
       "      <th>CTYNAME</th>\n",
       "      <th>CENSUS2010POP</th>\n",
       "      <th>ESTIMATESBASE2010</th>\n",
       "      <th>POPESTIMATE2010</th>\n",
       "      <th>...</th>\n",
       "      <th>RDOMESTICMIG2011</th>\n",
       "      <th>RDOMESTICMIG2012</th>\n",
       "      <th>RDOMESTICMIG2013</th>\n",
       "      <th>RDOMESTICMIG2014</th>\n",
       "      <th>RDOMESTICMIG2015</th>\n",
       "      <th>RNETMIG2011</th>\n",
       "      <th>RNETMIG2012</th>\n",
       "      <th>RNETMIG2013</th>\n",
       "      <th>RNETMIG2014</th>\n",
       "      <th>RNETMIG2015</th>\n",
       "    </tr>\n",
       "  </thead>\n",
       "  <tbody>\n",
       "    <tr>\n",
       "      <th>0</th>\n",
       "      <td>40</td>\n",
       "      <td>3</td>\n",
       "      <td>6</td>\n",
       "      <td>1</td>\n",
       "      <td>0</td>\n",
       "      <td>Alabama</td>\n",
       "      <td>Alabama</td>\n",
       "      <td>4779736</td>\n",
       "      <td>4780127</td>\n",
       "      <td>4785161</td>\n",
       "      <td>...</td>\n",
       "      <td>0.002295</td>\n",
       "      <td>-0.193196</td>\n",
       "      <td>0.381066</td>\n",
       "      <td>0.582002</td>\n",
       "      <td>-0.467369</td>\n",
       "      <td>1.030015</td>\n",
       "      <td>0.826644</td>\n",
       "      <td>1.383282</td>\n",
       "      <td>1.724718</td>\n",
       "      <td>0.712594</td>\n",
       "    </tr>\n",
       "    <tr>\n",
       "      <th>1</th>\n",
       "      <td>50</td>\n",
       "      <td>3</td>\n",
       "      <td>6</td>\n",
       "      <td>1</td>\n",
       "      <td>1</td>\n",
       "      <td>Alabama</td>\n",
       "      <td>Autauga County</td>\n",
       "      <td>54571</td>\n",
       "      <td>54571</td>\n",
       "      <td>54660</td>\n",
       "      <td>...</td>\n",
       "      <td>7.242091</td>\n",
       "      <td>-2.915927</td>\n",
       "      <td>-3.012349</td>\n",
       "      <td>2.265971</td>\n",
       "      <td>-2.530799</td>\n",
       "      <td>7.606016</td>\n",
       "      <td>-2.626146</td>\n",
       "      <td>-2.722002</td>\n",
       "      <td>2.592270</td>\n",
       "      <td>-2.187333</td>\n",
       "    </tr>\n",
       "    <tr>\n",
       "      <th>2</th>\n",
       "      <td>50</td>\n",
       "      <td>3</td>\n",
       "      <td>6</td>\n",
       "      <td>1</td>\n",
       "      <td>3</td>\n",
       "      <td>Alabama</td>\n",
       "      <td>Baldwin County</td>\n",
       "      <td>182265</td>\n",
       "      <td>182265</td>\n",
       "      <td>183193</td>\n",
       "      <td>...</td>\n",
       "      <td>14.832960</td>\n",
       "      <td>17.647293</td>\n",
       "      <td>21.845705</td>\n",
       "      <td>19.243287</td>\n",
       "      <td>17.197872</td>\n",
       "      <td>15.844176</td>\n",
       "      <td>18.559627</td>\n",
       "      <td>22.727626</td>\n",
       "      <td>20.317142</td>\n",
       "      <td>18.293499</td>\n",
       "    </tr>\n",
       "    <tr>\n",
       "      <th>3</th>\n",
       "      <td>50</td>\n",
       "      <td>3</td>\n",
       "      <td>6</td>\n",
       "      <td>1</td>\n",
       "      <td>5</td>\n",
       "      <td>Alabama</td>\n",
       "      <td>Barbour County</td>\n",
       "      <td>27457</td>\n",
       "      <td>27457</td>\n",
       "      <td>27341</td>\n",
       "      <td>...</td>\n",
       "      <td>-4.728132</td>\n",
       "      <td>-2.500690</td>\n",
       "      <td>-7.056824</td>\n",
       "      <td>-3.904217</td>\n",
       "      <td>-10.543299</td>\n",
       "      <td>-4.874741</td>\n",
       "      <td>-2.758113</td>\n",
       "      <td>-7.167664</td>\n",
       "      <td>-3.978583</td>\n",
       "      <td>-10.543299</td>\n",
       "    </tr>\n",
       "    <tr>\n",
       "      <th>4</th>\n",
       "      <td>50</td>\n",
       "      <td>3</td>\n",
       "      <td>6</td>\n",
       "      <td>1</td>\n",
       "      <td>7</td>\n",
       "      <td>Alabama</td>\n",
       "      <td>Bibb County</td>\n",
       "      <td>22915</td>\n",
       "      <td>22919</td>\n",
       "      <td>22861</td>\n",
       "      <td>...</td>\n",
       "      <td>-5.527043</td>\n",
       "      <td>-5.068871</td>\n",
       "      <td>-6.201001</td>\n",
       "      <td>-0.177537</td>\n",
       "      <td>0.177258</td>\n",
       "      <td>-5.088389</td>\n",
       "      <td>-4.363636</td>\n",
       "      <td>-5.403729</td>\n",
       "      <td>0.754533</td>\n",
       "      <td>1.107861</td>\n",
       "    </tr>\n",
       "    <tr>\n",
       "      <th>5</th>\n",
       "      <td>50</td>\n",
       "      <td>3</td>\n",
       "      <td>6</td>\n",
       "      <td>1</td>\n",
       "      <td>9</td>\n",
       "      <td>Alabama</td>\n",
       "      <td>Blount County</td>\n",
       "      <td>57322</td>\n",
       "      <td>57322</td>\n",
       "      <td>57373</td>\n",
       "      <td>...</td>\n",
       "      <td>1.807375</td>\n",
       "      <td>-1.177622</td>\n",
       "      <td>-1.748766</td>\n",
       "      <td>-2.062535</td>\n",
       "      <td>-1.369970</td>\n",
       "      <td>1.859511</td>\n",
       "      <td>-0.848580</td>\n",
       "      <td>-1.402476</td>\n",
       "      <td>-1.577232</td>\n",
       "      <td>-0.884411</td>\n",
       "    </tr>\n",
       "  </tbody>\n",
       "</table>\n",
       "<p>6 rows × 100 columns</p>\n",
       "</div>"
      ],
      "text/plain": [
       "   SUMLEV  REGION  DIVISION  STATE  COUNTY   STNAME         CTYNAME  \\\n",
       "0      40       3         6      1       0  Alabama         Alabama   \n",
       "1      50       3         6      1       1  Alabama  Autauga County   \n",
       "2      50       3         6      1       3  Alabama  Baldwin County   \n",
       "3      50       3         6      1       5  Alabama  Barbour County   \n",
       "4      50       3         6      1       7  Alabama     Bibb County   \n",
       "5      50       3         6      1       9  Alabama   Blount County   \n",
       "\n",
       "   CENSUS2010POP  ESTIMATESBASE2010  POPESTIMATE2010  ...  RDOMESTICMIG2011  \\\n",
       "0        4779736            4780127          4785161  ...          0.002295   \n",
       "1          54571              54571            54660  ...          7.242091   \n",
       "2         182265             182265           183193  ...         14.832960   \n",
       "3          27457              27457            27341  ...         -4.728132   \n",
       "4          22915              22919            22861  ...         -5.527043   \n",
       "5          57322              57322            57373  ...          1.807375   \n",
       "\n",
       "   RDOMESTICMIG2012  RDOMESTICMIG2013  RDOMESTICMIG2014  RDOMESTICMIG2015  \\\n",
       "0         -0.193196          0.381066          0.582002         -0.467369   \n",
       "1         -2.915927         -3.012349          2.265971         -2.530799   \n",
       "2         17.647293         21.845705         19.243287         17.197872   \n",
       "3         -2.500690         -7.056824         -3.904217        -10.543299   \n",
       "4         -5.068871         -6.201001         -0.177537          0.177258   \n",
       "5         -1.177622         -1.748766         -2.062535         -1.369970   \n",
       "\n",
       "   RNETMIG2011  RNETMIG2012  RNETMIG2013  RNETMIG2014  RNETMIG2015  \n",
       "0     1.030015     0.826644     1.383282     1.724718     0.712594  \n",
       "1     7.606016    -2.626146    -2.722002     2.592270    -2.187333  \n",
       "2    15.844176    18.559627    22.727626    20.317142    18.293499  \n",
       "3    -4.874741    -2.758113    -7.167664    -3.978583   -10.543299  \n",
       "4    -5.088389    -4.363636    -5.403729     0.754533     1.107861  \n",
       "5     1.859511    -0.848580    -1.402476    -1.577232    -0.884411  \n",
       "\n",
       "[6 rows x 100 columns]"
      ]
     },
     "execution_count": 15,
     "metadata": {},
     "output_type": "execute_result"
    }
   ],
   "source": [
    "import pandas as pd\n",
    "census_df = pd.read_csv('census.csv')\n",
    "census_df[:6]"
   ]
  },
  {
   "cell_type": "markdown",
   "metadata": {},
   "source": [
    "3. (1) Which state has the largest number of counties? <br>\n",
    "Note: look at the data carefully and consider the sum level carefully. <br>\n",
    "Return a tuple that contains the name of the state and the number of counties."
   ]
  },
  {
   "cell_type": "code",
   "execution_count": 16,
   "metadata": {},
   "outputs": [
    {
     "data": {
      "text/plain": [
       "('Texas', 255)"
      ]
     },
     "execution_count": 16,
     "metadata": {},
     "output_type": "execute_result"
    }
   ],
   "source": [
    "def max_county():\n",
    "    # Your answer here\n",
    "    \n",
    "    df_self=census_df\n",
    "    no_ofC = (df_self.groupby('STNAME')['COUNTY'].nunique()) #group and count the no. of countries\n",
    "    maxno=no_ofC.max() #take out the max one\n",
    "    x=no_ofC[no_ofC==maxno].index[0] #dataframe collect\n",
    "    return x,maxno\n",
    "\n",
    "max_county()"
   ]
  },
  {
   "cell_type": "markdown",
   "metadata": {},
   "source": [
    "3. (2) Which **state** has had the largest absolute change in population within the period 2010-2015? (Use columns: `POPESTIMATE2010`- `POPESTIMATE2015`). <br>\n",
    "For example, if the population in the 5 year period is 1300, 1400, 1100, 1500, 1200, then the largest absolute change is |1500-1100|=400 <br>\n",
    "Return a tuple that contains the name of the state and the largest absolute change.<br>"
   ]
  },
  {
   "cell_type": "code",
   "execution_count": 17,
   "metadata": {},
   "outputs": [
    {
     "data": {
      "text/plain": [
       "('Texas', 2224751)"
      ]
     },
     "execution_count": 17,
     "metadata": {},
     "output_type": "execute_result"
    }
   ],
   "source": [
    "def change_state():\n",
    "    # Your answer here\n",
    "    df_self=census_df.copy()\n",
    "    df_self=df_self[df_self['SUMLEV'] == 40]\n",
    "    df_self['Max']=df_self.T.loc['POPESTIMATE2010':'POPESTIMATE2015'].max() #creat column Max and Min\n",
    "    df_self['Min']=df_self.T.loc['POPESTIMATE2010':'POPESTIMATE2015'].min() #save the population no. of each state \n",
    "    df_self['Abs_C']=df_self['Max']-df_self['Min']    #absolute change\n",
    "    Maxno=df_self['Abs_C'].max()\n",
    "    city=df_self['STNAME'][df_self['Abs_C']==df_self['Abs_C'].max()].values[0]\n",
    "    return city,int(Maxno)\n",
    "    \n",
    "change_state()"
   ]
  },
  {
   "cell_type": "markdown",
   "metadata": {},
   "source": [
    "3. (3) By looking at the top three most populous **counties** in each **state only**, what are the top three most populous **states** that has the largest population in the top three most populous counties? Use `CENSUS2010POP`. <br>\n",
    "Return a pandas Series. Index: three state names. Value: the total population in the top three most populous counties (in the order of highest to lowest population)."
   ]
  },
  {
   "cell_type": "code",
   "execution_count": 18,
   "metadata": {},
   "outputs": [
    {
     "name": "stdout",
     "output_type": "stream",
     "text": [
      "['Los Angeles County' 'Cook County' 'Harris County']\n",
      "[9818605 5194675 4092459]\n"
     ]
    }
   ],
   "source": [
    "def top_states():\n",
    "    \n",
    "    # Your answer here\n",
    "    df1=census_df.copy()\n",
    "    df1=df1[df1['SUMLEV'] == 50]\n",
    "    df1=df1[['STNAME','CTYNAME', 'CENSUS2010POP']]\n",
    "    Frame=df1.groupby('STNAME')\n",
    "    List=[]\n",
    "    for (key, group) in Frame:\n",
    "        List.append(group)\n",
    "    for i in range(len(List)):    #keep the  top three most populous counties in each state\n",
    "        List[i]=List[i].sort_values('CENSUS2010POP',ascending=False).head(3) \n",
    "    df1_1=pd.concat(List).sort_values('CENSUS2010POP',ascending=False)#combine the dataframe of different state \n",
    "    c_name=list(df1_1['CTYNAME'].head(3).values)                      #and sort by decending population\n",
    "    c_no=list(df1_1['CENSUS2010POP'].head(3).values)\n",
    "    return pd.Series(c_no,index=c_name)\n",
    "\n",
    "# for grading\n",
    "re = top_states()\n",
    "print(re.index.values) #state names\n",
    "print(re.values) # total population of the top three counties"
   ]
  },
  {
   "cell_type": "markdown",
   "metadata": {},
   "source": [
    "3. (4) Convert the `CENSUS2010POP` from numbers to strings with thousands separators (using commas). i.e. 100000 to 100,000. <br>\n",
    "Return the pandas series of strings."
   ]
  },
  {
   "cell_type": "code",
   "execution_count": 19,
   "metadata": {},
   "outputs": [
    {
     "data": {
      "text/plain": [
       "0       4,779,736\n",
       "1          54,571\n",
       "2         182,265\n",
       "3          27,457\n",
       "4          22,915\n",
       "          ...    \n",
       "3188       43,806\n",
       "3189       21,294\n",
       "3190       21,118\n",
       "3191        8,533\n",
       "3192        7,208\n",
       "Name: CENSUS2010POP, Length: 3193, dtype: object"
      ]
     },
     "execution_count": 19,
     "metadata": {},
     "output_type": "execute_result"
    }
   ],
   "source": [
    "def separator():\n",
    "    # Your answer here\n",
    "    df_self=census_df.copy()\n",
    "    df_self['CENSUS2010POP'] = df_self.apply(lambda p: \"{:,}\".format(p['CENSUS2010POP']), axis=1)\n",
    "    return df_self['CENSUS2010POP'] \n",
    "    \n",
    "separator()"
   ]
  }
 ],
 "metadata": {
  "kernelspec": {
   "display_name": "Python 3 (ipykernel)",
   "language": "python",
   "name": "python3"
  },
  "language_info": {
   "codemirror_mode": {
    "name": "ipython",
    "version": 3
   },
   "file_extension": ".py",
   "mimetype": "text/x-python",
   "name": "python",
   "nbconvert_exporter": "python",
   "pygments_lexer": "ipython3",
   "version": "3.11.5"
  }
 },
 "nbformat": 4,
 "nbformat_minor": 4
}
